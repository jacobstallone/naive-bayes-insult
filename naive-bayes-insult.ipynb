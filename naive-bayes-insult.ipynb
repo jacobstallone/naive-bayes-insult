{
 "cells": [
  {
   "cell_type": "markdown",
   "metadata": {},
   "source": [
    "# Naive Bayes - Insults \n",
    "\n",
    "\n",
    "\n",
    "In this [Kaggle dataset](https://www.kaggle.com/c/detecting-insults-in-social-commentary), we will be looking at labeled comments that look something like this:\n",
    "\n",
    "\"You're all upset, defending this hipster band...and WE'RE the douches for reading the news and discussing it?  Put down the PBR, throw away the trucker hat, shave off that silly shadow-beard, put down your \"99%er\" sign, and get a job, ION.\"\n",
    "\n",
    "credits :Moon Master ,Insult Connoisseur\n",
    "\n",
    "Fair warning, the content is fairly provacative. However, this type of problem is very common in the continuum of comment threads throughout the web.  You can also use this type of pipeline to build custom sentiment features for other content-specific domains."
   ]
  },
  {
   "cell_type": "code",
   "execution_count": 1,
   "metadata": {},
   "outputs": [],
   "source": [
    "import pandas as pd, seaborn as sns, numpy as np, matplotlib.pyplot as plt\n",
    "\n",
    "from sklearn.feature_extraction.text import CountVectorizer, TfidfTransformer, TfidfVectorizer \n",
    "from sklearn.feature_extraction.text import TfidfTransformer\n",
    "from sklearn.feature_extraction.text import TfidfVectorizer\n",
    "from sklearn.model_selection import learning_curve\n",
    "from sklearn.model_selection import train_test_split, cross_val_score, ShuffleSplit\n",
    "from sklearn.metrics import classification_report\n",
    "from sklearn.naive_bayes import MultinomialNB, BernoulliNB, GaussianNB\n",
    "from sklearn.linear_model import LogisticRegression\n",
    "\n",
    "from sklearn.pipeline import Pipeline\n",
    "\n",
    "%matplotlib inline\n",
    "\n",
    "sns.set_style(\"darkgrid\")"
   ]
  },
  {
   "cell_type": "code",
   "execution_count": 2,
   "metadata": {},
   "outputs": [],
   "source": [
    "insults_df = pd.read_csv(\"datasets/train.csv\", encoding=\"utf-8\")\n",
    "# insults_df_test = pd.read_csv(\"assets/datasets/test.csv\", encoding=\"utf-8\")"
   ]
  },
  {
   "cell_type": "code",
   "execution_count": 3,
   "metadata": {},
   "outputs": [
    {
     "name": "stdout",
     "output_type": "stream",
     "text": [
      "<class 'pandas.core.frame.DataFrame'>\n",
      "RangeIndex: 3947 entries, 0 to 3946\n",
      "Data columns (total 3 columns):\n",
      "Insult     3947 non-null int64\n",
      "Date       3229 non-null object\n",
      "Comment    3947 non-null object\n",
      "dtypes: int64(1), object(2)\n",
      "memory usage: 92.6+ KB\n"
     ]
    }
   ],
   "source": [
    "insults_df.info()"
   ]
  },
  {
   "cell_type": "markdown",
   "metadata": {},
   "source": [
    "*There are a variety of expletives observed throughout this dataset. This activity is strictly educational. Please exercise critical thinking.*"
   ]
  },
  {
   "cell_type": "code",
   "execution_count": 4,
   "metadata": {},
   "outputs": [
    {
     "data": {
      "text/html": [
       "<div>\n",
       "<style>\n",
       "    .dataframe thead tr:only-child th {\n",
       "        text-align: right;\n",
       "    }\n",
       "\n",
       "    .dataframe thead th {\n",
       "        text-align: left;\n",
       "    }\n",
       "\n",
       "    .dataframe tbody tr th {\n",
       "        vertical-align: top;\n",
       "    }\n",
       "</style>\n",
       "<table border=\"1\" class=\"dataframe\">\n",
       "  <thead>\n",
       "    <tr style=\"text-align: right;\">\n",
       "      <th></th>\n",
       "      <th>Insult</th>\n",
       "      <th>Date</th>\n",
       "      <th>Comment</th>\n",
       "    </tr>\n",
       "  </thead>\n",
       "  <tbody>\n",
       "    <tr>\n",
       "      <th>0</th>\n",
       "      <td>1</td>\n",
       "      <td>20120618192155Z</td>\n",
       "      <td>\"You fuck your dad.\"</td>\n",
       "    </tr>\n",
       "    <tr>\n",
       "      <th>1</th>\n",
       "      <td>0</td>\n",
       "      <td>20120528192215Z</td>\n",
       "      <td>\"i really don't understand your point.\\xa0 It ...</td>\n",
       "    </tr>\n",
       "    <tr>\n",
       "      <th>2</th>\n",
       "      <td>0</td>\n",
       "      <td>NaN</td>\n",
       "      <td>\"A\\\\xc2\\\\xa0majority of Canadians can and has ...</td>\n",
       "    </tr>\n",
       "    <tr>\n",
       "      <th>3</th>\n",
       "      <td>0</td>\n",
       "      <td>NaN</td>\n",
       "      <td>\"listen if you dont wanna get married to a man...</td>\n",
       "    </tr>\n",
       "    <tr>\n",
       "      <th>4</th>\n",
       "      <td>0</td>\n",
       "      <td>20120619094753Z</td>\n",
       "      <td>\"C\\xe1c b\\u1ea1n xu\\u1ed1ng \\u0111\\u01b0\\u1edd...</td>\n",
       "    </tr>\n",
       "  </tbody>\n",
       "</table>\n",
       "</div>"
      ],
      "text/plain": [
       "   Insult             Date                                            Comment\n",
       "0       1  20120618192155Z                               \"You fuck your dad.\"\n",
       "1       0  20120528192215Z  \"i really don't understand your point.\\xa0 It ...\n",
       "2       0              NaN  \"A\\\\xc2\\\\xa0majority of Canadians can and has ...\n",
       "3       0              NaN  \"listen if you dont wanna get married to a man...\n",
       "4       0  20120619094753Z  \"C\\xe1c b\\u1ea1n xu\\u1ed1ng \\u0111\\u01b0\\u1edd..."
      ]
     },
     "execution_count": 4,
     "metadata": {},
     "output_type": "execute_result"
    }
   ],
   "source": [
    "insults_df.head()"
   ]
  },
  {
   "cell_type": "code",
   "execution_count": 5,
   "metadata": {},
   "outputs": [
    {
     "data": {
      "text/html": [
       "<div>\n",
       "<style>\n",
       "    .dataframe thead tr:only-child th {\n",
       "        text-align: right;\n",
       "    }\n",
       "\n",
       "    .dataframe thead th {\n",
       "        text-align: left;\n",
       "    }\n",
       "\n",
       "    .dataframe tbody tr th {\n",
       "        vertical-align: top;\n",
       "    }\n",
       "</style>\n",
       "<table border=\"1\" class=\"dataframe\">\n",
       "  <thead>\n",
       "    <tr style=\"text-align: right;\">\n",
       "      <th></th>\n",
       "      <th>Insult</th>\n",
       "      <th>Date</th>\n",
       "      <th>Comment</th>\n",
       "    </tr>\n",
       "  </thead>\n",
       "  <tbody>\n",
       "    <tr>\n",
       "      <th>2937</th>\n",
       "      <td>0</td>\n",
       "      <td>20120610052534Z</td>\n",
       "      <td>\"Fuck\"</td>\n",
       "    </tr>\n",
       "    <tr>\n",
       "      <th>3112</th>\n",
       "      <td>0</td>\n",
       "      <td>20120618221322Z</td>\n",
       "      <td>\"Shit\"</td>\n",
       "    </tr>\n",
       "  </tbody>\n",
       "</table>\n",
       "</div>"
      ],
      "text/plain": [
       "      Insult             Date Comment\n",
       "2937       0  20120610052534Z  \"Fuck\"\n",
       "3112       0  20120618221322Z  \"Shit\""
      ]
     },
     "execution_count": 5,
     "metadata": {},
     "output_type": "execute_result"
    }
   ],
   "source": [
    "mask = insults_df['Comment'].map(lambda text: len(text) == 6)\n",
    "insults_df[mask]"
   ]
  },
  {
   "cell_type": "markdown",
   "metadata": {},
   "source": [
    "### 1. Data exploration\n",
    "\n",
    "#### 1.A. Explore a list of comment words that occur more than 50x\n",
    "Plot a histogram of some kind might be helpful."
   ]
  },
  {
   "cell_type": "code",
   "execution_count": 6,
   "metadata": {
    "scrolled": true
   },
   "outputs": [
    {
     "data": {
      "text/plain": [
       "<3947x16469 sparse matrix of type '<type 'numpy.int64'>'\n",
       "\twith 100269 stored elements in Compressed Sparse Row format>"
      ]
     },
     "execution_count": 6,
     "metadata": {},
     "output_type": "execute_result"
    }
   ],
   "source": [
    "# Let's use the CountVectorizer to count words for us\n",
    "cvt      =  CountVectorizer(strip_accents='unicode', ngram_range=(1,1))\n",
    "X_all    =  cvt.fit_transform(insults_df['Comment'])\n",
    "columns  =  np.array(cvt.get_feature_names())          # ndarray (for indexing below)\n",
    "\n",
    "# note this is a large sparse matrix. \n",
    "#    - rows are insults, columns are words \n",
    "X_all"
   ]
  },
  {
   "cell_type": "code",
   "execution_count": 7,
   "metadata": {},
   "outputs": [
    {
     "name": "stdout",
     "output_type": "stream",
     "text": [
      "(3947, 16469)\n",
      "Requires 65003143 ints to do a .toarray()!\n"
     ]
    }
   ],
   "source": [
    "# Converting X_all toarray() may use too much memory\n",
    "print X_all.shape\n",
    "print \"Requires {} ints to do a .toarray()!\".format(X_all.shape[0] * X_all.shape[1])\n",
    "\n",
    "# x_df     =  pd.DataFrame(X_all.toarray(), columns=columns)\n",
    "# tf_df    =  pd.DataFrame(x_df.sum(), columns=[\"freq\"])\n",
    "# tf_df.sort_values(\"freq\", ascending=False).head(10)"
   ]
  },
  {
   "cell_type": "code",
   "execution_count": 8,
   "metadata": {},
   "outputs": [
    {
     "data": {
      "text/plain": [
       "the     4750\n",
       "you     3953\n",
       "to      3238\n",
       "and     2771\n",
       "of      2232\n",
       "is      1701\n",
       "that    1678\n",
       "are     1559\n",
       "it      1545\n",
       "in      1528\n",
       "your    1270\n",
       "xa0     1223\n",
       "for     1064\n",
       "on       920\n",
       "have     885\n",
       "not      850\n",
       "they     772\n",
       "be       764\n",
       "this     725\n",
       "he       722\n",
       "dtype: int64"
      ]
     },
     "execution_count": 8,
     "metadata": {},
     "output_type": "execute_result"
    }
   ],
   "source": [
    "# So .. we'll use np.sum() to convert it directly from the sparse matrix!\n",
    "# This is enormously more memory-efficient ...\n",
    "#   It only requires one int per column since summing across columns is the total word count.\n",
    "\n",
    "def get_freq_words(sparse_counts, columns):\n",
    "    # X_all is a sparse matrix, so sum() returns a 'matrix' datatype ...\n",
    "    #   which we then convert into a 1-D ndarray for sorting\n",
    "    word_counts = np.asarray(X_all.sum(axis=0)).reshape(-1)\n",
    "\n",
    "    # argsort() returns smallest first, so we reverse the result\n",
    "    largest_count_indices = word_counts.argsort()[::-1]\n",
    "\n",
    "    # pretty-print the results! Remember to always ask whether they make sense ...\n",
    "    freq_words = pd.Series(word_counts[largest_count_indices], \n",
    "                           index=columns[largest_count_indices])\n",
    "\n",
    "    return freq_words\n",
    "\n",
    "\n",
    "freq_words = get_freq_words(X_all, columns)\n",
    "freq_words[:20]"
   ]
  },
  {
   "cell_type": "markdown",
   "metadata": {},
   "source": [
    "#### 1.B. Investigate histogram of counts"
   ]
  },
  {
   "cell_type": "code",
   "execution_count": 9,
   "metadata": {},
   "outputs": [
    {
     "name": "stderr",
     "output_type": "stream",
     "text": [
      "/anaconda/lib/python2.7/site-packages/sklearn/utils/validation.py:429: DataConversionWarning: Data with input dtype int64 was converted to float64.\n",
      "  warnings.warn(msg, _DataConversionWarning)\n"
     ]
    },
    {
     "data": {
      "image/png": "[encoded data removed]",
      "text/plain": [
       "<matplotlib.figure.Figure at 0x11c14f090>"
      ]
     },
     "metadata": {},
     "output_type": "display_data"
    }
   ],
   "source": [
    "from sklearn.preprocessing import StandardScaler, minmax_scale\n",
    "\n",
    "def hist_counts(word_counts):\n",
    "    hist_counts = pd.Series(minmax_scale(word_counts), \n",
    "                            index=word_counts.index)\n",
    "    \n",
    "    # Overall graph is hard to understand, so let's break it into three graphs\n",
    "    fig, axes = plt.subplots(nrows=1, ncols=3, figsize=(12,6))\n",
    "    \n",
    "    hist_counts.plot(kind=\"hist\", bins=50, ax=axes[0], title=\"Histogram - All\")\n",
    "    \n",
    "    # There are a lot of really common tokens within 10% -- filter them out\n",
    "    hist_counts[hist_counts > .1].plot(kind=\"hist\", bins=50, ax=axes[1], title=\"Histogram - Counts > .1\")\n",
    "    \n",
    "    # look at the range of extreme commons that seem to exist below .01\n",
    "    hist_counts[hist_counts < .01].plot(kind=\"hist\", ax=axes[2], title=\"Histogram - Counts < .01\")\n",
    "    \n",
    "hist_counts(freq_words)"
   ]
  },
  {
   "cell_type": "markdown",
   "metadata": {},
   "source": [
    "#### 1.C. Try it again with stopword removal "
   ]
  },
  {
   "cell_type": "code",
   "execution_count": 10,
   "metadata": {},
   "outputs": [
    {
     "name": "stdout",
     "output_type": "stream",
     "text": [
      "xa0       1223\n",
      "like       718\n",
      "xc2        615\n",
      "just       557\n",
      "don        436\n",
      "people     419\n",
      "know       328\n",
      "think      302\n",
      "fuck       242\n",
      "x80        224\n",
      "dtype: int64\n"
     ]
    },
    {
     "data": {
      "image/png": "[encoded data removed]",
      "text/plain": [
       "<matplotlib.figure.Figure at 0x1208bbbd0>"
      ]
     },
     "metadata": {},
     "output_type": "display_data"
    }
   ],
   "source": [
    "cvt      =  CountVectorizer(strip_accents='unicode', stop_words=\"english\", ngram_range=(1,1))\n",
    "X_all    =  cvt.fit_transform(insults_df['Comment'])\n",
    "columns  =  np.array(cvt.get_feature_names())\n",
    "\n",
    "freq_words = get_freq_words(X_all, columns)\n",
    "\n",
    "print(freq_words[:10])\n",
    "hist_counts(freq_words)"
   ]
  },
  {
   "cell_type": "code",
   "execution_count": 11,
   "metadata": {},
   "outputs": [
    {
     "data": {
      "text/plain": [
       "1141.291000000072"
      ]
     },
     "execution_count": 11,
     "metadata": {},
     "output_type": "execute_result"
    }
   ],
   "source": [
    "# Checking range between .99 - .99999 -- there seem to be lots of words there\n",
    "freq_words.quantile(.99999)"
   ]
  },
  {
   "cell_type": "code",
   "execution_count": 12,
   "metadata": {},
   "outputs": [
    {
     "data": {
      "text/plain": [
       "got           150\n",
       "shit          148\n",
       "idiot         144\n",
       "better        137\n",
       "life          133\n",
       "look          129\n",
       "gay           125\n",
       "does          125\n",
       "ll            124\n",
       "years         118\n",
       "said          118\n",
       "money         115\n",
       "come          108\n",
       "bitch         108\n",
       "white         106\n",
       "day           104\n",
       "big           100\n",
       "year          100\n",
       "lol           100\n",
       "stop           98\n",
       "let            95\n",
       "post           94\n",
       "ni             92\n",
       "didn           92\n",
       "love           90\n",
       "doesn          90\n",
       "thing          89\n",
       "things         89\n",
       "feel           89\n",
       "dumb           88\n",
       "             ... \n",
       "crime          10\n",
       "events         10\n",
       "hide           10\n",
       "offensive      10\n",
       "claiming       10\n",
       "hi             10\n",
       "enemies        10\n",
       "hasn           10\n",
       "te             10\n",
       "core           10\n",
       "episode        10\n",
       "crack          10\n",
       "sh             10\n",
       "corporate      10\n",
       "penalty        10\n",
       "haters         10\n",
       "interview      10\n",
       "source         10\n",
       "held           10\n",
       "attempt        10\n",
       "attacks        10\n",
       "nasty          10\n",
       "banned         10\n",
       "politician     10\n",
       "ideas          10\n",
       "sell           10\n",
       "safe           10\n",
       "learned        10\n",
       "qb             10\n",
       "mail           10\n",
       "Length: 1168, dtype: int64"
      ]
     },
     "execution_count": 12,
     "metadata": {},
     "output_type": "execute_result"
    }
   ],
   "source": [
    "# find the %1, and %10 threshold for masking\n",
    "freq_words[(freq_words >= 10) & (freq_words <= 150)]"
   ]
  },
  {
   "cell_type": "markdown",
   "metadata": {},
   "source": [
    "#### 1.D. Explore ngrams between 2 and 4\n",
    "Display the top 75 ngrams with frequencies."
   ]
  },
  {
   "cell_type": "code",
   "execution_count": 13,
   "metadata": {
    "scrolled": false
   },
   "outputs": [
    {
     "data": {
      "text/plain": [
       "xc2 xa0                             379\n",
       "xe2 x80                             209\n",
       "xa0 xa0                             144\n",
       "http shar                            68\n",
       "shar es                              68\n",
       "http shar es                         68\n",
       "trade trade                          63\n",
       "trade trade trade                    62\n",
       "trade trade trade trade              61\n",
       "u2026 u2026                          59\n",
       "xa0 xa0 xa0                          57\n",
       "u2026 u2026 u2026                    52\n",
       "xa0 xa0 xa0 xa0                      49\n",
       "xa0 xc2                              46\n",
       "xc2 xa0 xc2                          46\n",
       "u2026 u2026 u2026 u2026              45\n",
       "don know                             43\n",
       "xe2 x80 x99s                         41\n",
       "x80 x99s                             41\n",
       "xc2 xa0 xc2 xa0                      35\n",
       "xa0 xc2 xa0                          35\n",
       "look like                            35\n",
       "x80 x9d                              34\n",
       "xe2 x80 x9d                          34\n",
       "bit ly                               34\n",
       "gay marriage                         32\n",
       "ly mrzlgv                            32\n",
       "bit ly mrzlgv                        32\n",
       "x80 x99t                             30\n",
       "xe2 x80 x99t                         30\n",
       "                                   ... \n",
       "probably mod                          1\n",
       "probably phuuking                     1\n",
       "probably memorial day good            1\n",
       "probably memorial day                 1\n",
       "probably memorial                     1\n",
       "probably look just like               1\n",
       "probably look just                    1\n",
       "probably look                         1\n",
       "probably likely think                 1\n",
       "probably overly generous nthe         1\n",
       "probably phuuking dyke                1\n",
       "probably shouldn informing child      1\n",
       "probably scream                       1\n",
       "probably shouldn informing            1\n",
       "probably shouldn                      1\n",
       "probably seen vagina laid             1\n",
       "probably seen vagina                  1\n",
       "probably seen                         1\n",
       "probably scream doctor comes          1\n",
       "probably scream doctor                1\n",
       "probably relevent mention             1\n",
       "probably phuuking dyke aint           1\n",
       "probably relevent                     1\n",
       "probably post apocalyptic world       1\n",
       "probably post apocalyptic             1\n",
       "probably post                         1\n",
       "probably played 25 30                 1\n",
       "probably played 25                    1\n",
       "probably played                       1\n",
       "00 gallon                             1\n",
       "Length: 170485, dtype: int64"
      ]
     },
     "execution_count": 13,
     "metadata": {},
     "output_type": "execute_result"
    }
   ],
   "source": [
    "cvt = CountVectorizer(stop_words=\"english\", ngram_range=(2,4))\n",
    "X_all = cvt.fit_transform(insults_df['Comment'])\n",
    "columns  =  np.array(cvt.get_feature_names())\n",
    "\n",
    "freq_words = get_freq_words(X_all, columns)\n",
    "freq_words"
   ]
  },
  {
   "cell_type": "markdown",
   "metadata": {},
   "source": [
    "#### 1.E. (Optional) try expanding the list of stopwords\n",
    "There are definitely some non-words such as xa0, x80, web urls, etc. If you could remove them, this could help us improve the score.  Identify word/tokens that don't add much value to either class.  **You should additionally look at ngrams per class (insults vs non-insults) to fine tune your preprocessing.  This has the greatest potential to improve your results without tuning any model parameters.**\n",
    "\n",
    "Using `nltk.corpus`, we can get a baseline list of stop words.  Try to expand it and pass it to our vectorizer."
   ]
  },
  {
   "cell_type": "code",
   "execution_count": 14,
   "metadata": {},
   "outputs": [],
   "source": [
    "from nltk.corpus import stopwords\n",
    "stop = stopwords.words('english')\n",
    "stop += ['xa0', 'x80', 'xc2', 'xe3']\n",
    "stop.append(\"need\")\n",
    "stop.append(\"in\")\n",
    "stop.append(\"re\")\n",
    "stop.append(\"are\")\n",
    "stop.append(\"for\")\n",
    "stop.append(\"have\")\n",
    "stop.append(\"like\")\n",
    "stop.append(\"be\")\n",
    "stop.append(\"see\")\n",
    "stop.append(\"do\")\n",
    "stop.append(\"trade\")\n",
    "stop.append(\"u2026\")\n",
    "stop.append(\"http\")\n",
    "stop.append(\"mrzlgv\")\n",
    "stop.append(\"bit\")\n",
    "stop.append(\"ly\")\n",
    "stop.append(\"div\")\n",
    "stop.append(\"class\")\n",
    "stop.append(\"forum\")\n",
    "stop.append(\"item\")\n",
    "stop.append(\"shar\")\n",
    "stop.append(\"profile\")\n",
    "stop.append(\"es\")\n",
    "\n",
    "stop += ['people', 'go', 'know', 'think', 'get', 'us', 'really', 'way', 'xe2', 'got', 'want', 'well']"
   ]
  },
  {
   "cell_type": "code",
   "execution_count": 15,
   "metadata": {},
   "outputs": [
    {
     "data": {
      "text/plain": [
       "would      371\n",
       "one        360\n",
       "fuck       242\n",
       "right      223\n",
       "time       219\n",
       "make       211\n",
       "good       207\n",
       "back       189\n",
       "even       185\n",
       "say        183\n",
       "little     174\n",
       "ass        171\n",
       "fucking    170\n",
       "obama      159\n",
       "never      154\n",
       "going      154\n",
       "stupid     154\n",
       "man        153\n",
       "shit       148\n",
       "idiot      144\n",
       "dtype: int64"
      ]
     },
     "execution_count": 15,
     "metadata": {},
     "output_type": "execute_result"
    }
   ],
   "source": [
    "# These look pretty clean for a first step in anlaysis\n",
    "cvt = CountVectorizer(stop_words=stop, lowercase=True, strip_accents=\"unicode\", ngram_range=(1,2))\n",
    "X_all = cvt.fit_transform(insults_df['Comment'])\n",
    "columns  =  np.array(cvt.get_feature_names())\n",
    "\n",
    "freq_words = get_freq_words(X_all, columns)\n",
    "freq_words[:20]"
   ]
  },
  {
   "cell_type": "markdown",
   "metadata": {},
   "source": [
    "### 2. Setup a test / train split of your data using any method you wish.\n",
    "Try 70/30 to start."
   ]
  },
  {
   "cell_type": "code",
   "execution_count": 16,
   "metadata": {},
   "outputs": [
    {
     "data": {
      "text/plain": [
       "(2762, 1953)"
      ]
     },
     "execution_count": 16,
     "metadata": {},
     "output_type": "execute_result"
    }
   ],
   "source": [
    "# Find our training size\n",
    "training_size = int(insults_df.shape[0] * .7)\n",
    "\n",
    "# Randomly sample our training data\n",
    "insults_train = insults_df.sample(n=training_size, replace=True)\n",
    "\n",
    "# Capture the rest of the dataset that's not \"training\" using an inverse mask (rows NOT IN training dataframe)\n",
    "mask = insults_df.index.isin(insults_train.index)\n",
    "insults_test = insults_df[~mask]\n",
    "\n",
    "# Should be (2762, 1963) = training / testing = 70/30\n",
    "insults_train.shape[0], insults_test.shape[0]"
   ]
  },
  {
   "cell_type": "markdown",
   "metadata": {},
   "source": [
    "### 3. Setup a \"Pipeline\" to vectorize and use MultinomialNB classifier.\n",
    "Use `lowercase`, `strip_accents`, `Pipeline`, and optionally your updated `stop_words`.  Fit your comment data using the \"Insult\" feature as your response.\n",
    "\n",
    "Fit your training data to your pipeline, then score it."
   ]
  },
  {
   "cell_type": "code",
   "execution_count": 17,
   "metadata": {},
   "outputs": [
    {
     "data": {
      "text/plain": [
       "0.76190476190476186"
      ]
     },
     "execution_count": 17,
     "metadata": {},
     "output_type": "execute_result"
    }
   ],
   "source": [
    "# MultinomialNB\n",
    "pipeline = Pipeline([\n",
    "    ('vect', CountVectorizer(lowercase=True, strip_accents='unicode', stop_words=stop)),\n",
    "    ('tfidf', TfidfTransformer()),\n",
    "    ('cls', MultinomialNB())\n",
    "]) \n",
    "pipeline.fit(insults_train[\"Comment\"], insults_train[\"Insult\"])\n",
    "predicted = pipeline.predict(insults_test[\"Comment\"])\n",
    "pipeline.score(insults_test[\"Comment\"], insults_test[\"Insult\"])"
   ]
  },
  {
   "cell_type": "code",
   "execution_count": 18,
   "metadata": {},
   "outputs": [
    {
     "data": {
      "text/plain": [
       "0.98707879402077525"
      ]
     },
     "execution_count": 18,
     "metadata": {},
     "output_type": "execute_result"
    }
   ],
   "source": [
    "# Alternative -- train on all data for later data mining of reddit comments\n",
    "# MultinomialNB\n",
    "pipeline = Pipeline([\n",
    "    ('vect', cvt),\n",
    "    # ('tfidf', TfidfTransformer()),\n",
    "    ('cls', MultinomialNB())\n",
    "]) \n",
    "pipeline.fit(insults_df[\"Comment\"], insults_df[\"Insult\"])\n",
    "predicted = pipeline.predict(insults_df[\"Comment\"])\n",
    "pipeline.score(insults_df[\"Comment\"], insults_df[\"Insult\"])"
   ]
  },
  {
   "cell_type": "code",
   "execution_count": 19,
   "metadata": {},
   "outputs": [],
   "source": [
    "#  Add predicted probabilities back to original dataframe\n",
    "insults_df['Predicted'] = predicted"
   ]
  },
  {
   "cell_type": "markdown",
   "metadata": {},
   "source": [
    "#### 3.A. Swap out MultinomialNB with BernoulliNB in the pipeline\n",
    "How do they compare?"
   ]
  },
  {
   "cell_type": "code",
   "execution_count": 20,
   "metadata": {},
   "outputs": [
    {
     "data": {
      "text/plain": [
       "0.79174056245249558"
      ]
     },
     "execution_count": 20,
     "metadata": {},
     "output_type": "execute_result"
    }
   ],
   "source": [
    "# BernoulliNB\n",
    "pipeline = Pipeline([\n",
    "    ('vect', cvt),\n",
    "    ('tfidf', TfidfTransformer()),\n",
    "    ('cls', BernoulliNB())\n",
    "]) \n",
    "pipeline.fit(insults_df[\"Comment\"], insults_df[\"Insult\"])\n",
    "predicted = pipeline.predict(insults_df[\"Comment\"])\n",
    "pipeline.score(insults_df[\"Comment\"], insults_df[\"Insult\"])"
   ]
  },
  {
   "cell_type": "markdown",
   "metadata": {},
   "source": [
    "#### 3.B. Also try logistic regression and random forests in the pipeline\n",
    "How do they compare? Recall that Logistic Regression is discriminative whereas Naive Bayes is generative. Logistic Regression uses optimization to fit a formula that discriminates between the classes, whereas Naive Bayes essentially just computes aggregate statistics. So, Logistic Regression should have a longer training time than Naive Bayes -- does it here? (see `%time`)\n",
    "\n",
    "Note that Logistic Regression and Random Forests both allow you to see feature \"importance\"/coefficients. In this case, these coefficients will inform you how strong each word is an insult or not. Optionally, see if you can sort these coefficients by their values to get the strongest and weakest indicator words for insults."
   ]
  },
  {
   "cell_type": "code",
   "execution_count": 21,
   "metadata": {},
   "outputs": [
    {
     "data": {
      "text/plain": [
       "0.82138332911071699"
      ]
     },
     "execution_count": 21,
     "metadata": {},
     "output_type": "execute_result"
    }
   ],
   "source": [
    "# LogisticRegression\n",
    "pipeline = Pipeline([\n",
    "    ('vect', cvt),\n",
    "    ('tfidf', TfidfTransformer()),\n",
    "    ('cls', LogisticRegression())\n",
    "]) \n",
    "pipeline.fit(insults_df[\"Comment\"], insults_df[\"Insult\"])\n",
    "predicted = pipeline.predict(insults_df[\"Comment\"])\n",
    "pipeline.score(insults_df[\"Comment\"], insults_df[\"Insult\"])"
   ]
  },
  {
   "cell_type": "markdown",
   "metadata": {},
   "source": [
    "#### 3.C. Also try tweaking the paramters of CountVectorizer and TfidfTranformer\n",
    "\n",
    "Remove Tfidf also. Good / bad?"
   ]
  },
  {
   "cell_type": "code",
   "execution_count": 22,
   "metadata": {},
   "outputs": [
    {
     "data": {
      "text/plain": [
       "0.98707879402077525"
      ]
     },
     "execution_count": 22,
     "metadata": {},
     "output_type": "execute_result"
    }
   ],
   "source": [
    "# BernoulliNB\n",
    "cvt2 = CountVectorizer(stop_words=stop, lowercase=True, strip_accents=\"unicode\", ngram_range=(1,2))\n",
    "pipeline = Pipeline([\n",
    "    ('vect', cvt2),\n",
    "    # ('tfidf', TfidfTransformer()),\n",
    "    ('cls', LogisticRegression())\n",
    "]) \n",
    "pipeline.fit(insults_df[\"Comment\"], insults_df[\"Insult\"])\n",
    "predicted = pipeline.predict(insults_df[\"Comment\"])\n",
    "pipeline.score(insults_df[\"Comment\"], insults_df[\"Insult\"])"
   ]
  },
  {
   "cell_type": "markdown",
   "metadata": {},
   "source": [
    "### 4. Check your score.\n",
    "Also, run a classification report and [plot AUC/ROC](../../week-04/2.3-evaluating_model_fit/code/AUC-ROC-codealong.ipynb).  Also, [review classfication reporting metrics](../../week-04/4.3-advanced-model_evaluation/code/starter-code/week4-4.1-classification-report.ipynb)."
   ]
  },
  {
   "cell_type": "code",
   "execution_count": 23,
   "metadata": {},
   "outputs": [
    {
     "data": {
      "text/plain": [
       "((1953, 3), 3947)"
      ]
     },
     "execution_count": 23,
     "metadata": {},
     "output_type": "execute_result"
    }
   ],
   "source": [
    "insults_test.shape, len(predicted)"
   ]
  },
  {
   "cell_type": "code",
   "execution_count": 24,
   "metadata": {},
   "outputs": [
    {
     "name": "stdout",
     "output_type": "stream",
     "text": [
      "             precision    recall  f1-score   support\n",
      "\n",
      "     Insult       0.98      1.00      0.99      1433\n",
      "    Neutral       1.00      0.95      0.97       520\n",
      "\n",
      "avg / total       0.99      0.99      0.99      1953\n",
      "\n"
     ]
    }
   ],
   "source": [
    "predicted = pipeline.predict(insults_test[\"Comment\"])\n",
    "print classification_report(insults_test[\"Insult\"], predicted, target_names=[\"Insult\", \"Neutral\"])"
   ]
  },
  {
   "cell_type": "markdown",
   "metadata": {},
   "source": [
    "### Revisiting:  Learning Curves\n",
    "\n",
    "Let us reprise the idea of sample size effect on validation score.  How do we know the optimal sample size to train and test on?  We can examine the scores of training and cross validation given a number of samples.  Plotting the scores is a great way to understand:\n",
    "\n",
    "- How to improve bias / generalization (out of sample prediction)\n",
    "- Generally how many samples you might need\n",
    "- The bounds of your models performance \n",
    "\n",
    "Generally, the learning curves represent the number of samples that have been used, the average scores on the training sets and the average scores on the validation sets.  \n",
    "\n",
    "See also [validation curves](http://scikit-learn.org/stable/auto_examples/model_selection/plot_validation_curve.html#example-model-selection-plot-validation-curve-py) for model parameter *(aka: hyper parameter)* tuning, also [calibration plots](http://scikit-learn.org/stable/auto_examples/calibration/plot_compare_calibration.html)."
   ]
  },
  {
   "cell_type": "code",
   "execution_count": 25,
   "metadata": {},
   "outputs": [],
   "source": [
    "def plot_learning_curve(estimator, title, X, y, ylim=None, cv=None,\n",
    "                        n_jobs=1, train_sizes=np.linspace(.1, 1.0, 5)):\n",
    "    \"\"\"\n",
    "    Generate a simple plot of the test and traning learning curve.\n",
    "\n",
    "    Parameters\n",
    "    ----------\n",
    "    estimator : object type that implements the \"fit\" and \"predict\" methods\n",
    "        An object of that type which is cloned for each validation.\n",
    "\n",
    "    title : string\n",
    "        Title for the chart.\n",
    "\n",
    "    X : array-like, shape (n_samples, n_features)\n",
    "        Training vector, where n_samples is the number of samples and\n",
    "        n_features is the number of features.\n",
    "\n",
    "    y : array-like, shape (n_samples) or (n_samples, n_features), optional\n",
    "        Target relative to X for classification or regression;\n",
    "        None for unsupervised learning.\n",
    "\n",
    "    ylim : tuple, shape (ymin, ymax), optional\n",
    "        Defines minimum and maximum yvalues plotted.\n",
    "\n",
    "    cv : integer, cross-validation generator, optional\n",
    "        If an integer is passed, it is the number of folds (defaults to 3).\n",
    "        Specific cross-validation objects can be passed, see\n",
    "        sklearn.cross_validation module for the list of possible objects\n",
    "\n",
    "    n_jobs : integer, optional\n",
    "        Number of jobs to run in parallel (default 1).\n",
    "    \"\"\"\n",
    "    plt.figure()\n",
    "    plt.title(title)\n",
    "    \n",
    "    if ylim is not None:\n",
    "        plt.ylim(*ylim)\n",
    "    \n",
    "    plt.xlabel(\"Training examples\")\n",
    "    plt.ylabel(\"Score\")\n",
    "    \n",
    "    train_sizes, train_scores, test_scores = learning_curve(\n",
    "        estimator, X, y, cv=cv, n_jobs=n_jobs, train_sizes=train_sizes)\n",
    "    \n",
    "    train_scores_mean = np.mean(train_scores, axis=1)\n",
    "    train_scores_std = np.std(train_scores, axis=1)\n",
    "    test_scores_mean = np.mean(test_scores, axis=1)\n",
    "    test_scores_std = np.std(test_scores, axis=1)\n",
    "    \n",
    "    plt.grid()\n",
    "\n",
    "    plt.fill_between(train_sizes, train_scores_mean - train_scores_std,\n",
    "                     train_scores_mean + train_scores_std, alpha=0.1,\n",
    "                     color=\"r\")\n",
    "    plt.fill_between(train_sizes, test_scores_mean - test_scores_std,\n",
    "                     test_scores_mean + test_scores_std, alpha=0.1, color=\"g\")\n",
    "    plt.plot(train_sizes, train_scores_mean, 'o-', color=\"r\",\n",
    "             label=\"Training score\")\n",
    "    plt.plot(train_sizes, test_scores_mean, 'o-', color=\"g\",\n",
    "             label=\"Cross-validation score\")\n",
    "\n",
    "    plt.legend(loc=\"best\")\n",
    "    return plt"
   ]
  },
  {
   "cell_type": "code",
   "execution_count": 26,
   "metadata": {},
   "outputs": [
    {
     "data": {
      "image/png": "[encoded data removed]",
      "text/plain": [
       "<matplotlib.figure.Figure at 0x12078a610>"
      ]
     },
     "metadata": {},
     "output_type": "display_data"
    }
   ],
   "source": [
    "# Pipeline variable can be replaced by your already established estimator\n",
    "learning_plt = plot_learning_curve(pipeline, \"Learning Curves (Naive Bayes)\", insults_df['Comment'], insults_df['Insult'], ylim=(0.5, 1.01), cv=3, n_jobs=4)\n",
    "\n",
    "learning_plt.show()"
   ]
  },
  {
   "cell_type": "code",
   "execution_count": 27,
   "metadata": {
    "collapsed": true
   },
   "outputs": [],
   "source": [
    "def multi_roc(y, probs):\n",
    "    \n",
    "    mean_tpr = 0.0\n",
    "    mean_fpr = np.linspace(0, 1, 100)\n",
    "    all_tpr = []\n",
    "\n",
    "    for i, (train, test) in enumerate(cv):\n",
    "        # probas_ = classifier.fit(X[train], y[train]).predict_proba(X[test])\n",
    "        # Compute ROC curve and area the curve\n",
    "        fpr, tpr, thresholds = roc_curve(y[test], probas_[:, 1])\n",
    "        mean_tpr += interp(mean_fpr, fpr, tpr)\n",
    "        mean_tpr[0] = 0.0\n",
    "        roc_auc = auc(fpr, tpr)\n",
    "        plt.plot(fpr, tpr, lw=1, label='ROC fold %d (area = %0.2f)' % (i, roc_auc))\n",
    "\n",
    "    plt.plot([0, 1], [0, 1], '--', color=(0.6, 0.6, 0.6), label='Luck')\n",
    "\n",
    "    mean_tpr /= len(cv)\n",
    "    mean_tpr[-1] = 1.0\n",
    "    mean_auc = auc(mean_fpr, mean_tpr)\n",
    "    plt.plot(mean_fpr, mean_tpr, 'k--',\n",
    "             label='Mean ROC (area = %0.2f)' % mean_auc, lw=2)\n",
    "\n",
    "    plt.xlim([-0.05, 1.05])\n",
    "    plt.ylim([-0.05, 1.05])\n",
    "    plt.xlabel('False Positive Rate')\n",
    "    plt.ylabel('True Positive Rate')\n",
    "    plt.title('Receiver operating characteristic example')\n",
    "    plt.legend(loc=\"lower right\")\n",
    "    plt.show()"
   ]
  },
  {
   "cell_type": "code",
   "execution_count": 28,
   "metadata": {},
   "outputs": [],
   "source": [
    "from sklearn.metrics import roc_curve\n",
    "\n",
    "def plot_roc(y, probs, threshmarkers=None):\n",
    "    fpr, tpr, thresh = roc_curve(y, probs)\n",
    "\n",
    "    plt.figure(figsize=(8,8))\n",
    "    plt.plot(fpr, tpr, lw=2)\n",
    "   \n",
    "    plt.xlabel(\"False Positive Rate\\n(1 - Specificity)\")\n",
    "    plt.ylabel(\"True Positive Rate\\n(Sensitivity)\")\n",
    "    plt.xlim([-0.025, 1.025])\n",
    "    plt.ylim([-0.025, 1.025])\n",
    "    plt.xticks(np.linspace(0, 1, 21), rotation=45)\n",
    "    plt.yticks(np.linspace(0, 1, 21))\n",
    "    plt.show()"
   ]
  },
  {
   "cell_type": "code",
   "execution_count": 29,
   "metadata": {},
   "outputs": [
    {
     "data": {
      "image/png": "[encoded data removed]",
      "text/plain": [
       "<matplotlib.figure.Figure at 0x121c95e50>"
      ]
     },
     "metadata": {},
     "output_type": "display_data"
    }
   ],
   "source": [
    "predicted_proba = pipeline.predict_proba(insults_test['Comment'])\n",
    "plot_roc(insults_test['Insult'], predicted_proba[:, 1])"
   ]
  },
  {
   "cell_type": "markdown",
   "metadata": {},
   "source": [
    "### 5 Check out your baseline.\n",
    "\n",
    "What is the chance that you will randomly guess correctly without any modeling? Insult vs neutral."
   ]
  },
  {
   "cell_type": "code",
   "execution_count": 30,
   "metadata": {},
   "outputs": [
    {
     "data": {
      "text/plain": [
       "0.2614047791455467"
      ]
     },
     "execution_count": 30,
     "metadata": {},
     "output_type": "execute_result"
    }
   ],
   "source": [
    "insults_train.Insult.sum() * 1.0 / insults_train.Insult.count() * 1.0"
   ]
  },
  {
   "cell_type": "markdown",
   "metadata": {},
   "source": [
    "### 6. Check the accuracy of your model with the holdout dataset \"test_with_solutions.csv\"\n",
    "\n",
    "Using the `test_with_solutions.csv`, we will test our model on another set of data it has never seen before.  Also plot the same eval metrics (classification report, AUC/ROC)."
   ]
  },
  {
   "cell_type": "code",
   "execution_count": 31,
   "metadata": {},
   "outputs": [
    {
     "data": {
      "text/plain": [
       "0.82281828485077446"
      ]
     },
     "execution_count": 31,
     "metadata": {},
     "output_type": "execute_result"
    }
   ],
   "source": [
    "test_df = pd.read_csv(\"datasets/test_with_solutions.csv\", encoding=\"utf-8\")\n",
    "test_df.head()\n",
    "\n",
    "pipeline.score(test_df['Comment'], test_df['Insult'])"
   ]
  },
  {
   "cell_type": "markdown",
   "metadata": {},
   "source": [
    "### 7. What is your model not getting right?\n",
    "\n",
    "Check out false positives and true negatives.  Any noticable patterns? Can you explain why many of these are incorrectly classified, given what you know about how Naive Bayes works?  Pay particular attention to the recall metric.  What might be done in preprocessing steps to improve accuracy?  \n",
    "\n",
    "- Try to improve with your **preprocessing first**\n",
    "- THEN try to tweak your **parameters to your model(s)**"
   ]
  },
  {
   "cell_type": "code",
   "execution_count": 32,
   "metadata": {},
   "outputs": [
    {
     "name": "stdout",
     "output_type": "stream",
     "text": [
      "\"your such a dickhead...\"\n",
      "\"fuck you both\"\n",
      "\"That's because you're a nobody.\"\n",
      "\"More people on here than you, you cunt.\"\n",
      "\"You are a child.\"\n",
      "\"You're a bum\"\n",
      "\"you're a tard\"\n",
      "\"No people like you are the problem we are having in this world.\"\n",
      "\"You're a fucking joke.\"\n",
      "\"fuck your god.\"\n",
      "\"Like you Know Fck Face.\"\n",
      "\"fucking savages\"\n",
      "\"You're a turd.\"\n",
      "\"You are a pig.\"\n",
      "\"We're not the losers but\\xa0 you and this country are.\"\n",
      "\"fucking idiots\"\n",
      "\"With a screen name like yours, you need to s..t..f..u..\"\n",
      "\"F v < k you too.\"\n",
      "\"And you are a weak bully!\"\n",
      "\"AND YOU POSTAL, WERE HATCHED\"\n",
      "\"Yep, you're a darky.\"\n",
      "\"like your mom\"\n",
      "\"W T F are you ranting about adolf?\"\n",
      "\"have you been living under a rock kaden?\"\n",
      "\"You are too_stupid to breathe! \"\n",
      "\"Fuck you.\"\n",
      "\"What are you guys smoking?\"\n",
      "\"_yeah_i_bet_you're_a_occupy_fucking_nigger!\"\n",
      "\"you is shit\"\n",
      "\"That guy is a real fuckstick.\"\n",
      "\"You are a born m o r o n.\"\n",
      "\"That's because you're all morons.\"\n",
      "\"Are you proud of your trolls?\"\n",
      "\"You are the disgusting one.\"\n",
      "\"You are a traitor.\"\n",
      "\"go fuck yourself.\"\n",
      "\"You are completely clueless.\"\n",
      "\"You are the fake.\"\n",
      "\"You're not the world's best debater.\"\n",
      "\"FUCK YOU.\"\n",
      "\"S T F U and pay your dues\"\n",
      "\"_go_eat_your_dog_you_pos_libtard\"\n",
      "\"you're\\xa0clearly a nigger ^^\"\n",
      "\"#nWo4Life\\n#FuckTrolls\"\n",
      "\"Wow, you really are a fooI.\"\n",
      "\"You like whore.\"\n",
      "\"really - what planet are you on?\"\n",
      "\"And what are you going to do tough guy?\"\n",
      "\"No you f u c k head!!!!!!!!!!!\"\n",
      "\"You're a dim-wit.\"\n"
     ]
    }
   ],
   "source": [
    "predicted = pipeline.predict(insults_df[\"Comment\"])\n",
    "\n",
    "# Incorrectly classified\n",
    "false_positives = insults_df[(predicted == 1) & (insults_df['Insult'] == 0)]\n",
    "true_negatives = insults_df[(predicted == 0) & (insults_df['Insult'] == 1)]\n",
    "\n",
    "# To view each comment in its entirety (Pandas has a set col width)\n",
    "for comment in true_negatives['Comment']:\n",
    "    print(comment)"
   ]
  },
  {
   "cell_type": "markdown",
   "metadata": {},
   "source": [
    "## Lastly...\n",
    "\n",
    "[this blog post](http://webmining.olariu.org/my-first-kaggle-competition-and-how-i-ranked/) by a guy who used SVM, a \"neural network\", a ton of cleaning, then placed 3rd in a Kaggle competition featuing this same dataset. Also [this blog post](http://peekaboo-vision.blogspot.de/2012/09/recap-of-my-first-kaggle-competition.html) -- he got 6th place and found the best model was a simple Logistic Regression! Given that you used a few basic techniques with preprocessing text and Naive Bayes, what do think about the tradeoffs of simplicity vs complexity of your model?"
   ]
  }
 ],
 "metadata": {
  "anaconda-cloud": {},
  "kernelspec": {
   "display_name": "Python [default]",
   "language": "python",
   "name": "python2"
  },
  "language_info": {
   "codemirror_mode": {
    "name": "ipython",
    "version": 2
   },
   "file_extension": ".py",
   "mimetype": "text/x-python",
   "name": "python",
   "nbconvert_exporter": "python",
   "pygments_lexer": "ipython2",
   "version": "2.7.13"
  },
  "toc": {
   "nav_menu": {},
   "number_sections": true,
   "sideBar": true,
   "skip_h1_title": false,
   "toc_cell": false,
   "toc_position": {},
   "toc_section_display": "block",
   "toc_window_display": false
  }
 },
 "nbformat": 4,
 "nbformat_minor": 1
}
